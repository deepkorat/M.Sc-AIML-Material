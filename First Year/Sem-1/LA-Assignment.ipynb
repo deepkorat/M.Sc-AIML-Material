{
 "cells": [
  {
   "cell_type": "markdown",
   "id": "683d112d",
   "metadata": {},
   "source": [
    "# LA assignment"
   ]
  },
  {
   "cell_type": "markdown",
   "id": "b372f54c",
   "metadata": {},
   "source": [
    "### 1. Cramer Rule ( 2x2 Matrix)"
   ]
  },
  {
   "cell_type": "markdown",
   "id": "bdf7ea1b",
   "metadata": {},
   "source": [
    "### 2. Addition of Two matrices in loop ( 2x2 Matrix )\n",
    "<p>If yes then continue program, else once execute and terminate it.</p>"
   ]
  },
  {
   "cell_type": "markdown",
   "id": "e3a989fc",
   "metadata": {},
   "source": [
    "### 3. Determinate of a matrix in loop ( 2x2 Matrix)"
   ]
  },
  {
   "cell_type": "code",
   "execution_count": null,
   "id": "9d7b39cc",
   "metadata": {},
   "outputs": [],
   "source": []
  }
 ],
 "metadata": {
  "kernelspec": {
   "display_name": "Python 3",
   "language": "python",
   "name": "python3"
  },
  "language_info": {
   "codemirror_mode": {
    "name": "ipython",
    "version": 3
   },
   "file_extension": ".py",
   "mimetype": "text/x-python",
   "name": "python",
   "nbconvert_exporter": "python",
   "pygments_lexer": "ipython3",
   "version": "3.8.8"
  }
 },
 "nbformat": 4,
 "nbformat_minor": 5
}
