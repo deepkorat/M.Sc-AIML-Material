{
 "cells": [
  {
   "cell_type": "markdown",
   "id": "2b243de9",
   "metadata": {},
   "source": [
    "# Assignment 1"
   ]
  },
  {
   "cell_type": "markdown",
   "id": "d0b4268a",
   "metadata": {},
   "source": [
    "### 1. Explore each function of math library."
   ]
  },
  {
   "cell_type": "markdown",
   "id": "f3678f9e",
   "metadata": {},
   "source": [
    "<h4>math - Mathematical functions</h4>\n",
    "<p>This module provides access to the mathematical functions defined by the <b>C standard.</b></p>"
   ]
  },
  {
   "cell_type": "code",
   "execution_count": 7,
   "id": "d90e749b",
   "metadata": {},
   "outputs": [
    {
     "name": "stdout",
     "output_type": "stream",
     "text": [
      "['__doc__', '__loader__', '__name__', '__package__', '__spec__', 'acos', 'acosh', 'asin', 'asinh', 'atan', 'atan2', 'atanh', 'ceil', 'comb', 'copysign', 'cos', 'cosh', 'degrees', 'dist', 'e', 'erf', 'erfc', 'exp', 'expm1', 'fabs', 'factorial', 'floor', 'fmod', 'frexp', 'fsum', 'gamma', 'gcd', 'hypot', 'inf', 'isclose', 'isfinite', 'isinf', 'isnan', 'isqrt', 'ldexp', 'lgamma', 'log', 'log10', 'log1p', 'log2', 'modf', 'nan', 'perm', 'pi', 'pow', 'prod', 'radians', 'remainder', 'sin', 'sinh', 'sqrt', 'tan', 'tanh', 'tau', 'trunc']\n"
     ]
    }
   ],
   "source": [
    "import math\n",
    "\n",
    "# All function in math library\n",
    "print(dir(math))"
   ]
  },
  {
   "cell_type": "code",
   "execution_count": 31,
   "id": "31147d8c",
   "metadata": {},
   "outputs": [
    {
     "data": {
      "text/plain": [
       "4"
      ]
     },
     "execution_count": 31,
     "metadata": {},
     "output_type": "execute_result"
    }
   ],
   "source": [
    "x = 3.99897\n",
    "math.ceil(x) "
   ]
  },
  {
   "cell_type": "markdown",
   "id": "7b4db847",
   "metadata": {},
   "source": [
    "### 2. Explore assignment function and constants availbale in library."
   ]
  },
  {
   "cell_type": "code",
   "execution_count": null,
   "id": "bf246aa7",
   "metadata": {},
   "outputs": [],
   "source": []
  },
  {
   "cell_type": "markdown",
   "id": "50a521b0",
   "metadata": {},
   "source": [
    "### 3. Explore string data type library."
   ]
  },
  {
   "cell_type": "code",
   "execution_count": null,
   "id": "83c75e0c",
   "metadata": {},
   "outputs": [],
   "source": []
  },
  {
   "cell_type": "markdown",
   "id": "4ba23e8f",
   "metadata": {},
   "source": [
    "### 4. Experiment usinng ID function to show that interger data type is mutable."
   ]
  },
  {
   "cell_type": "code",
   "execution_count": null,
   "id": "a8f90788",
   "metadata": {},
   "outputs": [],
   "source": []
  },
  {
   "cell_type": "markdown",
   "id": "b65f1787",
   "metadata": {},
   "source": [
    "### 5. Experiment to prove dynamic typing in python."
   ]
  },
  {
   "cell_type": "code",
   "execution_count": null,
   "id": "64199eb9",
   "metadata": {},
   "outputs": [],
   "source": []
  },
  {
   "cell_type": "markdown",
   "id": "3ba010be",
   "metadata": {},
   "source": [
    "### 6. Experiment to show that list is mutable whereas tuple is immutable."
   ]
  },
  {
   "cell_type": "code",
   "execution_count": null,
   "id": "ef3b1294",
   "metadata": {},
   "outputs": [],
   "source": []
  },
  {
   "cell_type": "markdown",
   "id": "d5a28f92",
   "metadata": {},
   "source": [
    "### 7. Practice slicing and indexing for string."
   ]
  },
  {
   "cell_type": "code",
   "execution_count": null,
   "id": "c0a8cba1",
   "metadata": {},
   "outputs": [],
   "source": []
  },
  {
   "cell_type": "code",
   "execution_count": null,
   "id": "2db6c811",
   "metadata": {},
   "outputs": [],
   "source": []
  }
 ],
 "metadata": {
  "kernelspec": {
   "display_name": "Python 3",
   "language": "python",
   "name": "python3"
  },
  "language_info": {
   "codemirror_mode": {
    "name": "ipython",
    "version": 3
   },
   "file_extension": ".py",
   "mimetype": "text/x-python",
   "name": "python",
   "nbconvert_exporter": "python",
   "pygments_lexer": "ipython3",
   "version": "3.8.8"
  }
 },
 "nbformat": 4,
 "nbformat_minor": 5
}
